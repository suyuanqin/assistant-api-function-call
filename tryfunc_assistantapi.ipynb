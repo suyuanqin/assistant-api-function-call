{
 "cells": [
  {
   "cell_type": "code",
   "execution_count": 1,
   "metadata": {},
   "outputs": [],
   "source": [
    "import datetime as dt\n",
    "import meteomatics.api as api\n",
    "def get_current_temperature(coordinates, specific_time):\n",
    "    #meteomatics 用户名和密码\n",
    "    username = 'none_lee_jine'\n",
    "    password = 'JS1kb4k76V'\n",
    "    parameters = ['t_2m:C']  # 只查询温度\n",
    "    model = 'mix'\n",
    "    df = api.query_time_series(\n",
    "        coordinates,\n",
    "        specific_time,\n",
    "        specific_time,\n",
    "        dt.timedelta(hours=1),\n",
    "        parameters,\n",
    "        username,\n",
    "        password,\n",
    "        model=model\n",
    "    )\n",
    "    return df"
   ]
  },
  {
   "cell_type": "code",
   "execution_count": 12,
   "metadata": {},
   "outputs": [],
   "source": [
    "from datetime import datetime\n",
    "import json\n",
    "available_functions = {\n",
    "    \"get_current_temperature\": get_current_temperature\n",
    "}\n",
    "def execute_function_call(function_name,arguments):\n",
    "    function = available_functions.get(function_name,None)\n",
    "    if function:\n",
    "        # print(arguments)\n",
    "        arguments=json.loads(arguments)\n",
    "        # print(arguments)\n",
    "         # 将字符串时间转换为 datetime 对象\n",
    "        if 'specific_time' in arguments:\n",
    "            dt_obj =  datetime.fromisoformat(arguments['specific_time'].replace('Z', '+00:00'))\n",
    "            dt_str= dt_obj.strftime('%Y-%m-%d %H:%M:%S%z')\n",
    "            dt_dt=dt.datetime.fromisoformat(dt_str)\n",
    "            arguments['specific_time']=dt_dt\n",
    "        # print(arguments)\n",
    "        results = function(**arguments)\n",
    "        print(\"sss\",results)\n",
    "    else:\n",
    "        results = f\"Error: function {function_name} does not exist\"\n",
    "    return results"
   ]
  },
  {
   "cell_type": "code",
   "execution_count": 2,
   "metadata": {},
   "outputs": [],
   "source": [
    "import os\n",
    "from dotenv import load_dotenv\n",
    "from openai import OpenAI\n",
    "load_dotenv()\n",
    "client = OpenAI(api_key=os.getenv(\"OPENAI_PROJECT_API_KEY\"))\n"
   ]
  },
  {
   "cell_type": "code",
   "execution_count": 17,
   "metadata": {},
   "outputs": [],
   "source": [
    "tools = [\n",
    "    {\n",
    "        \"type\": \"function\",\n",
    "        \"function\": {\n",
    "            \"name\": \"get_current_temperature\",\n",
    "            \"description\": \"Fetch the current temperature of a given location.\",\n",
    "            \"parameters\": {\n",
    "                \"type\": \"object\",\n",
    "                \"properties\": {\n",
    "                    \"coordinates\": {    \n",
    "                        \"type\": \"array\",\n",
    "                         \"items\": {\n",
    "                            \"type\": \"array\",\n",
    "                            \"items\": {\n",
    "                                \"type\": \"number\"\n",
    "                            },\n",
    "                            \"minItems\": 2,\n",
    "                            \"maxItems\": 2\n",
    "                        },\n",
    "                        \"description\": \"Array of [latitude, longitude] pairs, e.g., [[33, 44]].\"\n",
    "                    },\n",
    "                    \"specific_time\": {\n",
    "                        \"type\": \"string\",\n",
    "                        \"format\": \"date-time\",\n",
    "                        \"description\": \"The specific time to get the temperature.e.g., '2024-12-25 01:00:00+00:00'\"\n",
    "                    }\n",
    "                },\n",
    "                \"required\": [\"coordinates\",\"specific_time\"]\n",
    "            }\n",
    "        }\n",
    "    }\n",
    "]"
   ]
  },
  {
   "cell_type": "code",
   "execution_count": 18,
   "metadata": {},
   "outputs": [],
   "source": [
    "assistant = client.beta.assistants.create(\n",
    "  name=\"weather bot\",\n",
    "  instructions=\"You are an weather bot. Use the provided functions to answer questions. Synthesise answer based on provided function output and be consise\",\n",
    "  model=\"gpt-4\",\n",
    "  tools = tools\n",
    ")"
   ]
  },
  {
   "cell_type": "code",
   "execution_count": 19,
   "metadata": {},
   "outputs": [],
   "source": [
    "#创建thread,messages,run\n",
    "def create_message_and_run(assistant,query,thread=None):\n",
    "  if not thread:\n",
    "    thread = client.beta.threads.create()\n",
    "\n",
    "  message = client.beta.threads.messages.create(\n",
    "    thread_id=thread.id,\n",
    "    role=\"user\",\n",
    "    content=query\n",
    "  )\n",
    "  run = client.beta.threads.runs.create(\n",
    "  thread_id=thread.id,\n",
    "  assistant_id=assistant.id\n",
    "  )\n",
    "  return run,thread"
   ]
  },
  {
   "cell_type": "code",
   "execution_count": 20,
   "metadata": {},
   "outputs": [],
   "source": [
    "#获取required_action状态下所需的函数名，参数，函数id\n",
    "def get_function_details(run):\n",
    "\n",
    "  print(\"\\nrun.required_action\\n\",run.required_action)\n",
    "\n",
    "  function_name = run.required_action.submit_tool_outputs.tool_calls[0].function.name\n",
    "  arguments = run.required_action.submit_tool_outputs.tool_calls[0].function.arguments\n",
    "  function_id = run.required_action.submit_tool_outputs.tool_calls[0].id\n",
    "\n",
    "  print(f\"function_name: {function_name} and arguments: {arguments}\")\n",
    "\n",
    "  return function_name, arguments, function_id\n",
    "\n",
    "\n",
    "#把函数执行结果提交到run\n",
    "def submit_tool_outputs(run,thread,function_id,function_response):\n",
    "    run = client.beta.threads.runs.submit_tool_outputs(\n",
    "    thread_id=thread.id,\n",
    "    run_id=run.id,\n",
    "    tool_outputs=[\n",
    "      {\n",
    "        \"tool_call_id\": function_id,\n",
    "        \"output\": str(function_response),\n",
    "      }\n",
    "    ]\n",
    "    )\n",
    "    return run"
   ]
  },
  {
   "cell_type": "code",
   "execution_count": 21,
   "metadata": {},
   "outputs": [],
   "source": [
    "query = \"I want to know the current temperature in Beijing.Today is 2024-12-25\"\n",
    "run,thread = create_message_and_run(assistant=assistant,query=query)\n",
    "\n"
   ]
  },
  {
   "cell_type": "code",
   "execution_count": 22,
   "metadata": {},
   "outputs": [
    {
     "data": {
      "text/plain": [
       "Run(id='run_jJIJx7l6n1VU5fB2KDsPtXEm', assistant_id='asst_fVYmhSszPXsDRFLvpLqnEnYF', cancelled_at=None, completed_at=None, created_at=1735106661, expires_at=1735107261, failed_at=None, incomplete_details=None, instructions='You are an weather bot. Use the provided functions to answer questions. Synthesise answer based on provided function output and be consise', last_error=None, max_completion_tokens=None, max_prompt_tokens=None, metadata={}, model='gpt-4', object='thread.run', parallel_tool_calls=True, required_action=None, response_format='auto', started_at=None, status='queued', thread_id='thread_CRydEx4mjsSf7lQc89d4DZJu', tool_choice='auto', tools=[FunctionTool(function=FunctionDefinition(name='get_current_temperature', description='Fetch the current temperature of a given location.', parameters={'type': 'object', 'properties': {'coordinates': {'type': 'array', 'items': {'type': 'array', 'items': {'type': 'number'}, 'minItems': 2, 'maxItems': 2}, 'description': 'Array of [latitude, longitude] pairs, e.g., [[33, 44]].'}, 'specific_time': {'type': 'string', 'format': 'date-time', 'description': \"The specific time to get the temperature.e.g., '2024-12-25 01:00:00+00:00'\"}}, 'required': ['coordinates', 'specific_time']}, strict=False), type='function')], truncation_strategy=TruncationStrategy(type='auto', last_messages=None), usage=None, temperature=1.0, top_p=1.0, tool_resources={})"
      ]
     },
     "execution_count": 22,
     "metadata": {},
     "output_type": "execute_result"
    }
   ],
   "source": [
    "run"
   ]
  },
  {
   "cell_type": "code",
   "execution_count": 23,
   "metadata": {},
   "outputs": [
    {
     "name": "stdout",
     "output_type": "stream",
     "text": [
      "run status requires_action\n",
      "\n",
      "run.required_action\n",
      " RequiredAction(submit_tool_outputs=RequiredActionSubmitToolOutputs(tool_calls=[RequiredActionFunctionToolCall(id='call_dIXapHQGBqZfg4TaxUTkeppf', function=Function(arguments='{\\n  \"coordinates\": [[39.9042, 116.4074]],\\n  \"specific_time\": \"2024-12-25 00:00:00+00:00\"\\n}', name='get_current_temperature'), type='function')]), type='submit_tool_outputs')\n",
      "function_name: get_current_temperature and arguments: {\n",
      "  \"coordinates\": [[39.9042, 116.4074]],\n",
      "  \"specific_time\": \"2024-12-25 00:00:00+00:00\"\n",
      "}\n",
      "sss                                             t_2m:C\n",
      "lat     lon      validdate                        \n",
      "39.9042 116.4074 2024-12-25 00:00:00+00:00    -7.3\n",
      "run status in_progress\n",
      "run status completed\n",
      "The current temperature in Beijing on 2024-12-25 is -7.3°C.\n"
     ]
    }
   ],
   "source": [
    "import time\n",
    "while True:\n",
    "    run = client.beta.threads.runs.retrieve(thread_id=thread.id, run_id=run.id)\n",
    "    print(\"run status\", run.status)\n",
    "\n",
    "    if run.status==\"requires_action\":\n",
    "\n",
    "        function_name, arguments, function_id  = get_function_details(run)\n",
    "\n",
    "        function_response = execute_function_call(function_name,arguments)\n",
    "\n",
    "        run = submit_tool_outputs(run,thread,function_id,function_response)\n",
    "\n",
    "        continue\n",
    "    if run.status==\"completed\":\n",
    "\n",
    "        messages = client.beta.threads.messages.list(thread_id=thread.id)\n",
    "        latest_message = messages.data[0]\n",
    "        text = latest_message.content[0].text.value\n",
    "        print(text)\n",
    "\n",
    "        user_input = input()\n",
    "        if user_input == \"STOP\":\n",
    "          break\n",
    "\n",
    "        run,thread = create_message_and_run(assistant=assistant,query=user_input,thread=thread)\n",
    "\n",
    "        continue;\n",
    "    time.sleep(1)"
   ]
  }
 ],
 "metadata": {
  "kernelspec": {
   "display_name": "base",
   "language": "python",
   "name": "python3"
  },
  "language_info": {
   "codemirror_mode": {
    "name": "ipython",
    "version": 3
   },
   "file_extension": ".py",
   "mimetype": "text/x-python",
   "name": "python",
   "nbconvert_exporter": "python",
   "pygments_lexer": "ipython3",
   "version": "3.12.7"
  }
 },
 "nbformat": 4,
 "nbformat_minor": 2
}
